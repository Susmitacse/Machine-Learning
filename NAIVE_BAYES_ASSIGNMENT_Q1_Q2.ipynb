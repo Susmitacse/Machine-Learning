{
  "nbformat": 4,
  "nbformat_minor": 0,
  "metadata": {
    "kernelspec": {
      "display_name": "Python 3",
      "language": "python",
      "name": "python3"
    },
    "language_info": {
      "codemirror_mode": {
        "name": "ipython",
        "version": 3
      },
      "file_extension": ".py",
      "mimetype": "text/x-python",
      "name": "python",
      "nbconvert_exporter": "python",
      "pygments_lexer": "ipython3",
      "version": "3.7.9"
    },
    "colab": {
      "name": "NAIVE_BAYES_ASSIGNMENT_Q1_Q2.ipynb",
      "provenance": []
    }
  },
  "cells": [
    {
      "cell_type": "code",
      "metadata": {
        "id": "m1HmqHGygZxk"
      },
      "source": [
        "import numpy as np\n",
        "import pandas as pd\n",
        "import matplotlib.pyplot as plt\n",
        "import seaborn as sns\n",
        "import random\n",
        "from pprint import pprint\n",
        "from sklearn.preprocessing import LabelEncoder\n",
        "from sklearn.preprocessing import LabelBinarizer\n",
        "from sklearn.model_selection import train_test_split\n",
        "from sklearn.naive_bayes import GaussianNB\n",
        "from sklearn.metrics import accuracy_score\n",
        "from collections import Counter"
      ],
      "execution_count": null,
      "outputs": []
    },
    {
      "cell_type": "code",
      "metadata": {
        "scrolled": false,
        "id": "Doe22XNqgZxr",
        "colab": {
          "base_uri": "https://localhost:8080/"
        },
        "outputId": "c34576ce-ded4-4409-ebb1-29e6380a6efb"
      },
      "source": [
        "df = pd.read_csv(\"Train_D.csv\")\n",
        "df = df.drop(\"id\", axis=1)\n",
        "df = df.drop(\"reporting date\", axis=1)\n",
        "df = df.drop(\"If_onset_approximated\", axis=1)\n",
        "df = df.drop(\"symptom_onset\", axis=1)\n",
        "df = df.drop(\"hosp_visit_date\", axis=1)\n",
        "df = df.drop(\"exposure_start\", axis=1)\n",
        "df = df.drop(\"exposure_end\", axis=1)\n",
        "df = df.drop(\"location\", axis=1)\n",
        "\n",
        "class_label = df[\"death\"]\n",
        "\n",
        "for index in range(len(class_label)):\n",
        "    if class_label[index]==\"0\" and len(class_label[index])==1:\n",
        "        class_label[index]=0\n",
        "    else:\n",
        "        class_label[index]=1 \n",
        "df = df.assign(death=class_label)\n",
        "\n",
        "recov = df[\"recovered\"]\n",
        "\n",
        "for index in range(len(recov)):\n",
        "    if recov[index]==\"0\":\n",
        "        recov[index]=0\n",
        "    else:\n",
        "        recov[index]=1 \n",
        "df = df.assign(recovered=recov)\n",
        "\n",
        "coun = df[\"country\"]\n",
        "\n",
        "for index in range(len(coun)):\n",
        "    if coun[index]==\"China\":\n",
        "        coun[index]=1\n",
        "    else:\n",
        "        coun[index]=0 \n",
        "df = df.assign(country=coun)\n",
        "\n"
      ],
      "execution_count": null,
      "outputs": [
        {
          "output_type": "stream",
          "text": [
            "/usr/local/lib/python3.6/dist-packages/ipykernel_launcher.py:15: SettingWithCopyWarning: \n",
            "A value is trying to be set on a copy of a slice from a DataFrame\n",
            "\n",
            "See the caveats in the documentation: https://pandas.pydata.org/pandas-docs/stable/user_guide/indexing.html#returning-a-view-versus-a-copy\n",
            "  from ipykernel import kernelapp as app\n",
            "/usr/local/lib/python3.6/dist-packages/ipykernel_launcher.py:17: SettingWithCopyWarning: \n",
            "A value is trying to be set on a copy of a slice from a DataFrame\n",
            "\n",
            "See the caveats in the documentation: https://pandas.pydata.org/pandas-docs/stable/user_guide/indexing.html#returning-a-view-versus-a-copy\n",
            "/usr/local/lib/python3.6/dist-packages/ipykernel_launcher.py:24: SettingWithCopyWarning: \n",
            "A value is trying to be set on a copy of a slice from a DataFrame\n",
            "\n",
            "See the caveats in the documentation: https://pandas.pydata.org/pandas-docs/stable/user_guide/indexing.html#returning-a-view-versus-a-copy\n",
            "/usr/local/lib/python3.6/dist-packages/ipykernel_launcher.py:26: SettingWithCopyWarning: \n",
            "A value is trying to be set on a copy of a slice from a DataFrame\n",
            "\n",
            "See the caveats in the documentation: https://pandas.pydata.org/pandas-docs/stable/user_guide/indexing.html#returning-a-view-versus-a-copy\n",
            "/usr/local/lib/python3.6/dist-packages/ipykernel_launcher.py:33: SettingWithCopyWarning: \n",
            "A value is trying to be set on a copy of a slice from a DataFrame\n",
            "\n",
            "See the caveats in the documentation: https://pandas.pydata.org/pandas-docs/stable/user_guide/indexing.html#returning-a-view-versus-a-copy\n",
            "/usr/local/lib/python3.6/dist-packages/ipykernel_launcher.py:35: SettingWithCopyWarning: \n",
            "A value is trying to be set on a copy of a slice from a DataFrame\n",
            "\n",
            "See the caveats in the documentation: https://pandas.pydata.org/pandas-docs/stable/user_guide/indexing.html#returning-a-view-versus-a-copy\n"
          ],
          "name": "stderr"
        }
      ]
    },
    {
      "cell_type": "code",
      "metadata": {
        "id": "KRBd2SThgZxy"
      },
      "source": [
        "class_label = df[\"death\"]\n",
        "_,class_counts = np.unique(class_label,return_counts=True)\n",
        "\n",
        "zero_class_indices = [0]*class_counts[0]\n",
        "\n",
        "indices = 0\n",
        "for index in range(len(class_label)):\n",
        "    if class_label[index] == 0:\n",
        "        zero_class_indices[indices] = index\n",
        "        indices = indices+1    \n",
        "\n",
        "class_zero_df = df.loc[zero_class_indices]\n",
        "class_one_df = df.drop(zero_class_indices)"
      ],
      "execution_count": null,
      "outputs": []
    },
    {
      "cell_type": "code",
      "metadata": {
        "id": "cxLIxxKygZx5"
      },
      "source": [
        "def fill_missing_values(df):\n",
        "    for index in range (df.shape[1]):\n",
        "        column_objects = df.iloc[:,index]\n",
        "        occurence_count = Counter(column_objects)\n",
        "        replacement = occurence_count.most_common(1)[0][0]\n",
        "        column_objects = column_objects.fillna(replacement)\n",
        "        df.iloc[:,index] = column_objects    \n",
        "    return df"
      ],
      "execution_count": null,
      "outputs": []
    },
    {
      "cell_type": "code",
      "metadata": {
        "id": "WDgxZJsngZx9"
      },
      "source": [
        "class_zero_df = fill_missing_values(class_zero_df)\n",
        "class_one_df = fill_missing_values(class_one_df)\n",
        "frames = [class_zero_df, class_one_df]\n",
        "df = pd.concat(frames)"
      ],
      "execution_count": null,
      "outputs": []
    },
    {
      "cell_type": "code",
      "metadata": {
        "id": "t_CwN9KUgZyB"
      },
      "source": [
        "lb_style = LabelBinarizer()\n",
        "gender_code = lb_style.fit_transform(df[\"gender\"])\n",
        "df = df.assign(gender = gender_code)\n",
        "\n",
        "df = df.sample(frac = 1) "
      ],
      "execution_count": null,
      "outputs": []
    },
    {
      "cell_type": "code",
      "metadata": {
        "id": "cELH7G-WgZyG"
      },
      "source": [
        "x = df.drop(\"death\",axis=1)\n",
        "y = df[\"death\"]\n",
        "x_train, x_test, y_train, y_test = train_test_split(x,y,test_size=0.2,random_state=1)"
      ],
      "execution_count": null,
      "outputs": []
    },
    {
      "cell_type": "code",
      "metadata": {
        "id": "PXL_uP4OgZyK",
        "colab": {
          "base_uri": "https://localhost:8080/"
        },
        "outputId": "613ac2e3-a0a7-4b02-afdc-c7b5b939cb29"
      },
      "source": [
        "model = GaussianNB()\n",
        "model.fit(x_train,y_train)"
      ],
      "execution_count": null,
      "outputs": [
        {
          "output_type": "execute_result",
          "data": {
            "text/plain": [
              "GaussianNB(priors=None, var_smoothing=1e-09)"
            ]
          },
          "metadata": {
            "tags": []
          },
          "execution_count": 8
        }
      ]
    },
    {
      "cell_type": "code",
      "metadata": {
        "id": "6skeOTQEgZyP"
      },
      "source": [
        "y_pred = model.predict(x_test)\n",
        "accuracy = accuracy_score(y_test,y_pred)*100"
      ],
      "execution_count": null,
      "outputs": []
    },
    {
      "cell_type": "code",
      "metadata": {
        "id": "jEw983YpgZyT",
        "colab": {
          "base_uri": "https://localhost:8080/"
        },
        "outputId": "bac9137f-9313-4bd0-fcaf-2dcaecae8d90"
      },
      "source": [
        "accuracy"
      ],
      "execution_count": null,
      "outputs": [
        {
          "output_type": "execute_result",
          "data": {
            "text/plain": [
              "44.23963133640553"
            ]
          },
          "metadata": {
            "tags": []
          },
          "execution_count": 10
        }
      ]
    },
    {
      "cell_type": "code",
      "metadata": {
        "id": "o-Xa9OBcgZyZ"
      },
      "source": [
        "from sklearn.preprocessing import StandardScaler\n",
        "scaler = StandardScaler()\n",
        "scaler.fit(x_train)\n",
        "\n",
        "x_train = scaler.transform(x_train)\n",
        "x_test = scaler.transform(x_test)"
      ],
      "execution_count": null,
      "outputs": []
    },
    {
      "cell_type": "code",
      "metadata": {
        "id": "LBEzPcHsgZyg"
      },
      "source": [
        "from sklearn import decomposition\n",
        "pca = decomposition.PCA(n_components=2)\n",
        "pca.fit(x)\n",
        "x = pca.transform(x)\n",
        "\n",
        "\n",
        "x_train = pca.transform(x_train)\n",
        "x_test = pca.transform(x_test)"
      ],
      "execution_count": null,
      "outputs": []
    },
    {
      "cell_type": "code",
      "metadata": {
        "id": "4zF90QKNgZyl",
        "colab": {
          "base_uri": "https://localhost:8080/"
        },
        "outputId": "4572c609-d1a0-4b28-b538-f0492633d46b"
      },
      "source": [
        "model = GaussianNB()\n",
        "model.fit(x_train,y_train)"
      ],
      "execution_count": null,
      "outputs": [
        {
          "output_type": "execute_result",
          "data": {
            "text/plain": [
              "GaussianNB(priors=None, var_smoothing=1e-09)"
            ]
          },
          "metadata": {
            "tags": []
          },
          "execution_count": 13
        }
      ]
    },
    {
      "cell_type": "code",
      "metadata": {
        "id": "UDjpk8Y-gZyq"
      },
      "source": [
        "y_pred_pca = model.predict(x_test)\n",
        "accuracy_pca = accuracy_score(y_test,y_pred_pca)*100"
      ],
      "execution_count": null,
      "outputs": []
    },
    {
      "cell_type": "code",
      "metadata": {
        "id": "wqNEGgaAgZyv",
        "colab": {
          "base_uri": "https://localhost:8080/"
        },
        "outputId": "64c2aedd-91d3-44b8-9ab3-d9506b700bbc"
      },
      "source": [
        "accuracy"
      ],
      "execution_count": null,
      "outputs": [
        {
          "output_type": "execute_result",
          "data": {
            "text/plain": [
              "44.23963133640553"
            ]
          },
          "metadata": {
            "tags": []
          },
          "execution_count": 15
        }
      ]
    },
    {
      "cell_type": "code",
      "metadata": {
        "id": "Tr1CSQjIgZyz",
        "colab": {
          "base_uri": "https://localhost:8080/",
          "height": 501
        },
        "outputId": "e3cbac0b-ff2a-4ccc-bbda-cf17795e7e04"
      },
      "source": [
        "Xax=x_train[:,0]\n",
        "Yax=x_train[:,1]\n",
        "labels=y_train\n",
        "cdict={0:'red',1:'green'}\n",
        "labl={0:'Not Dead',1:'Dead'}\n",
        "marker={0:'*',1:'o'}\n",
        "alpha={0:.3, 1:.5}\n",
        "fig,ax=plt.subplots(figsize=(10,8))\n",
        "fig.patch.set_facecolor('white')\n",
        "for l in np.unique(labels):\n",
        " ix=np.where(labels==l)\n",
        " ax.scatter(Xax[ix],Yax[ix],c=cdict[l],s=40, label=labl[l],marker=marker[l],alpha=alpha[l])\n",
        "plt.xlabel(\"First Principal Component\",fontsize=14)\n",
        "plt.ylabel(\"Second Principal Component\",fontsize=14)\n",
        "plt.legend()\n",
        "plt.show()"
      ],
      "execution_count": null,
      "outputs": [
        {
          "output_type": "display_data",
          "data": {
            "image/png": "[encoded data removed]",
            "text/plain": [
              "<Figure size 720x576 with 1 Axes>"
            ]
          },
          "metadata": {
            "tags": []
          }
        }
      ]
    },
    {
      "cell_type": "code",
      "metadata": {
        "id": "jIrvZg60gZy3"
      },
      "source": [
        ""
      ],
      "execution_count": null,
      "outputs": []
    },
    {
      "cell_type": "code",
      "metadata": {
        "id": "ZDRwXj71gZy6"
      },
      "source": [
        ""
      ],
      "execution_count": null,
      "outputs": []
    }
  ]
}