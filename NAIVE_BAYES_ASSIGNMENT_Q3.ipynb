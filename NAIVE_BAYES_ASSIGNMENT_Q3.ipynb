{
  "nbformat": 4,
  "nbformat_minor": 0,
  "metadata": {
    "kernelspec": {
      "display_name": "Python 3",
      "language": "python",
      "name": "python3"
    },
    "language_info": {
      "codemirror_mode": {
        "name": "ipython",
        "version": 3
      },
      "file_extension": ".py",
      "mimetype": "text/x-python",
      "name": "python",
      "nbconvert_exporter": "python",
      "pygments_lexer": "ipython3",
      "version": "3.7.9"
    },
    "colab": {
      "name": "NAIVE_BAYES_ASSIGNMENT_Q3.ipynb",
      "provenance": []
    }
  },
  "cells": [
    {
      "cell_type": "code",
      "metadata": {
        "id": "K2xuuMAkfsWf"
      },
      "source": [
        "import numpy as np\n",
        "import pandas as pd\n",
        "import matplotlib.pyplot as plt\n",
        "import seaborn as sns\n",
        "import random\n",
        "from pprint import pprint\n",
        "from sklearn.preprocessing import LabelEncoder\n",
        "from sklearn.preprocessing import LabelBinarizer\n",
        "from sklearn.model_selection import train_test_split\n",
        "from sklearn.naive_bayes import GaussianNB\n",
        "from sklearn.metrics import accuracy_score\n",
        "from collections import Counter"
      ],
      "execution_count": null,
      "outputs": []
    },
    {
      "cell_type": "code",
      "metadata": {
        "id": "6mMgkMFXfsWo",
        "colab": {
          "base_uri": "https://localhost:8080/"
        },
        "outputId": "fd812273-a333-4410-a2b2-651727eb944b"
      },
      "source": [
        "df = pd.read_csv(\"Train_D.csv\")\n",
        "df = df.drop(\"id\", axis=1)\n",
        "df = df.drop(\"reporting date\", axis=1)\n",
        "df = df.drop(\"If_onset_approximated\", axis=1)\n",
        "df = df.drop(\"symptom_onset\n",
        "\n",
        "\n",
        "\", axis=1)\n",
        "df = df.drop(\"hosp_visit_date\", axis=1)\n",
        "df = df.drop(\"exposure_start\", axis=1)\n",
        "df = df.drop(\"exposure_end\", axis=1)\n",
        "df = df.drop(\"location\", axis=1)\n",
        "\n",
        "class_label = df[\"death\"]\n",
        "\n",
        "for index in range(len(class_label)):\n",
        "    if class_label[index]==\"0\" and len(class_label[index])==1:\n",
        "        class_label[index]=0\n",
        "    else:\n",
        "        class_label[index]=1 \n",
        "df = df.assign(death=class_label)\n",
        "\n",
        "recov = df[\"recovered\"]\n",
        "\n",
        "for index in range(len(recov)):\n",
        "    if recov[index]==\"0\":\n",
        "        recov[index]=0\n",
        "    else:\n",
        "        recov[index]=1 \n",
        "df = df.assign(recovered=recov)\n",
        "\n",
        "coun = df[\"country\"]\n",
        "\n",
        "for index in range(len(coun)):\n",
        "    if coun[index]==\"China\":\n",
        "        coun[index]=1\n",
        "    else:\n",
        "        coun[index]=0 \n",
        "df = df.assign(country=coun)"
      ],
      "execution_count": null,
      "outputs": [
        {
          "output_type": "stream",
          "text": [
            "/usr/local/lib/python3.6/dist-packages/ipykernel_launcher.py:15: SettingWithCopyWarning: \n",
            "A value is trying to be set on a copy of a slice from a DataFrame\n",
            "\n",
            "See the caveats in the documentation: https://pandas.pydata.org/pandas-docs/stable/user_guide/indexing.html#returning-a-view-versus-a-copy\n",
            "  from ipykernel import kernelapp as app\n",
            "/usr/local/lib/python3.6/dist-packages/ipykernel_launcher.py:17: SettingWithCopyWarning: \n",
            "A value is trying to be set on a copy of a slice from a DataFrame\n",
            "\n",
            "See the caveats in the documentation: https://pandas.pydata.org/pandas-docs/stable/user_guide/indexing.html#returning-a-view-versus-a-copy\n",
            "/usr/local/lib/python3.6/dist-packages/ipykernel_launcher.py:24: SettingWithCopyWarning: \n",
            "A value is trying to be set on a copy of a slice from a DataFrame\n",
            "\n",
            "See the caveats in the documentation: https://pandas.pydata.org/pandas-docs/stable/user_guide/indexing.html#returning-a-view-versus-a-copy\n",
            "/usr/local/lib/python3.6/dist-packages/ipykernel_launcher.py:26: SettingWithCopyWarning: \n",
            "A value is trying to be set on a copy of a slice from a DataFrame\n",
            "\n",
            "See the caveats in the documentation: https://pandas.pydata.org/pandas-docs/stable/user_guide/indexing.html#returning-a-view-versus-a-copy\n",
            "/usr/local/lib/python3.6/dist-packages/ipykernel_launcher.py:33: SettingWithCopyWarning: \n",
            "A value is trying to be set on a copy of a slice from a DataFrame\n",
            "\n",
            "See the caveats in the documentation: https://pandas.pydata.org/pandas-docs/stable/user_guide/indexing.html#returning-a-view-versus-a-copy\n",
            "/usr/local/lib/python3.6/dist-packages/ipykernel_launcher.py:35: SettingWithCopyWarning: \n",
            "A value is trying to be set on a copy of a slice from a DataFrame\n",
            "\n",
            "See the caveats in the documentation: https://pandas.pydata.org/pandas-docs/stable/user_guide/indexing.html#returning-a-view-versus-a-copy\n"
          ],
          "name": "stderr"
        }
      ]
    },
    {
      "cell_type": "code",
      "metadata": {
        "id": "-GGj7WLVfsWv"
      },
      "source": [
        "class_label = df[\"death\"]\n",
        "_,class_counts = np.unique(class_label,return_counts=True)\n",
        "\n",
        "zero_class_indices = [0]*class_counts[0]\n",
        "\n",
        "indices = 0\n",
        "for index in range(len(class_label)):\n",
        "    if class_label[index] == 0:\n",
        "        zero_class_indices[indices] = index\n",
        "        indices = indices+1    \n",
        "\n",
        "class_zero_df = df.loc[zero_class_indices]\n",
        "class_one_df = df.drop(zero_class_indices)"
      ],
      "execution_count": null,
      "outputs": []
    },
    {
      "cell_type": "code",
      "metadata": {
        "id": "dCYkSIyPfsW0"
      },
      "source": [
        "def fill_missing_values(df):\n",
        "    for index in range (df.shape[1]):\n",
        "        column_objects = df.iloc[:,index]\n",
        "        occurence_count = Counter(column_objects)\n",
        "        replacement = occurence_count.most_common(1)[0][0]\n",
        "        column_objects = column_objects.fillna(replacement)\n",
        "        df.iloc[:,index] = column_objects    \n",
        "    return df"
      ],
      "execution_count": null,
      "outputs": []
    },
    {
      "cell_type": "code",
      "metadata": {
        "id": "ocOu10DxfsW6"
      },
      "source": [
        "class_zero_df = fill_missing_values(class_zero_df)\n",
        "class_one_df = fill_missing_values(class_one_df)\n",
        "frames = [class_zero_df, class_one_df]\n",
        "df = pd.concat(frames)"
      ],
      "execution_count": null,
      "outputs": []
    },
    {
      "cell_type": "code",
      "metadata": {
        "id": "Hgc524sKfsW-"
      },
      "source": [
        "lb_style = LabelBinarizer()\n",
        "gender_code = lb_style.fit_transform(df[\"gender\"])\n",
        "df = df.assign(gender = gender_code)\n",
        "\n",
        "df = df.sample(frac = 1) "
      ],
      "execution_count": null,
      "outputs": []
    },
    {
      "cell_type": "code",
      "metadata": {
        "id": "ab_db8NafsXD"
      },
      "source": [
        "import statistics\n",
        "\n",
        "age_check = df[\"country\"]\n",
        "\n",
        "m1 = statistics.mean(coun)\n",
        "s1 = statistics.stdev(coun)\n",
        "\n",
        "counter = 0\n",
        "for index in range(len(age_check)):\n",
        "    if age_check[index]<(m1-1.96*s1) and age_check[index]>(m1-1.96*s1):\n",
        "        counter += 1\n",
        "        \n",
        "if counter>5:\n",
        "    df = df.drop(\"age\")"
      ],
      "execution_count": null,
      "outputs": []
    },
    {
      "cell_type": "code",
      "metadata": {
        "id": "BfGAx79IfsXJ"
      },
      "source": [
        "x = df.drop(\"death\",axis=1)\n",
        "y = df[\"death\"]\n",
        "x_train, x_test, y_train, y_test = train_test_split(x,y,test_size=0.2,random_state=1)\n",
        "\n",
        "model = GaussianNB()\n",
        "model.fit(x_train,y_train)\n",
        "\n",
        "y_pred = model.predict(x_test)\n",
        "accuracy0 = accuracy_score(y_test,y_pred)*100\n",
        "\n",
        "x_train1 = x_train.drop(\"recovered\",axis=1)\n",
        "x_test1 = x_test.drop(\"recovered\",axis=1)\n",
        "\n",
        "model = GaussianNB()\n",
        "model.fit(x_train1,y_train)\n",
        "\n",
        "y_pred1 = model.predict(x_test1)\n",
        "accuracy1 = accuracy_score(y_test,y_pred1)*100\n",
        "\n",
        "if accuracy1>accuracy0:\n",
        "    x = x.drop(\"recovered\",axis=1)\n",
        "    accuracy0 = accuracy1\n",
        "\n",
        "\n",
        "x_train1 = x_train.drop(\"from Wuhan\",axis=1)\n",
        "x_test1 = x_test.drop(\"from Wuhan\",axis=1)\n",
        "\n",
        "model = GaussianNB()\n",
        "model.fit(x_train1,y_train)\n",
        "\n",
        "y_pred1 = model.predict(x_test1)\n",
        "accuracy1 = accuracy_score(y_test,y_pred1)*100\n",
        "\n",
        "if accuracy1>accuracy0:\n",
        "    x = x.drop(\"from Wuhan\",axis=1)\n",
        "    accuracy0 = accuracy1\n",
        "\n",
        "\n",
        "x_train1 = x_train.drop(\"visiting Wuhan\",axis=1)\n",
        "x_test1 = x_test.drop(\"visiting Wuhan\",axis=1)\n",
        "\n",
        "model = GaussianNB()\n",
        "model.fit(x_train1,y_train)\n",
        "\n",
        "y_pred1 = model.predict(x_test1)\n",
        "accuracy1 = accuracy_score(y_test,y_pred1)*100\n",
        "\n",
        "if accuracy1>accuracy0:\n",
        "    x = x.drop(\"visiting Wuhan\",axis=1)\n",
        "    accuracy0 = accuracy1\n",
        "\n",
        "\n",
        "    \n",
        "x_train1 = x_train.drop(\"age\",axis=1)\n",
        "x_test1 = x_test.drop(\"age\",axis=1)\n",
        "\n",
        "model = GaussianNB()\n",
        "model.fit(x_train1,y_train)\n",
        "\n",
        "y_pred1 = model.predict(x_test1)\n",
        "accuracy1 = accuracy_score(y_test,y_pred1)*100\n",
        "\n",
        "if accuracy1>accuracy0:\n",
        "    x = x.drop(\"age\",axis=1)\n",
        "    accuracy0 = accuracy1\n",
        "    \n",
        "x_train1 = x_train.drop(\"gender\",axis=1)\n",
        "x_test1 = x_test.drop(\"gender\",axis=1)\n",
        "\n",
        "model = GaussianNB()\n",
        "model.fit(x_train1,y_train)\n",
        "\n",
        "y_pred1 = model.predict(x_test1)\n",
        "accuracy1 = accuracy_score(y_test,y_pred1)*100\n",
        "\n",
        "if accuracy1>accuracy0:\n",
        "    x = x.drop(\"gender\",axis=1)\n",
        "    accuracy0 = accuracy1\n",
        "    \n",
        "    \n",
        "x_train1 = x_train.drop(\"country\",axis=1)\n",
        "x_test1 = x_test.drop(\"country\",axis=1)\n",
        "\n",
        "model = GaussianNB()\n",
        "model.fit(x_train1,y_train)\n",
        "\n",
        "y_pred1 = model.predict(x_test1)\n",
        "accuracy1 = accuracy_score(y_test,y_pred1)*100\n",
        "\n",
        "if accuracy1>accuracy0:\n",
        "    x = x.drop(\"country\",axis=1)\n",
        "    accuracy0 = accuracy1\n",
        "\n",
        "\n"
      ],
      "execution_count": null,
      "outputs": []
    },
    {
      "cell_type": "code",
      "metadata": {
        "id": "SoiakAn-fsXO",
        "colab": {
          "base_uri": "https://localhost:8080/"
        },
        "outputId": "84a0c4b8-0174-45e6-f45d-2a43824bfd75"
      },
      "source": [
        "list(x.columns)"
      ],
      "execution_count": null,
      "outputs": [
        {
          "output_type": "execute_result",
          "data": {
            "text/plain": [
              "['country', 'gender', 'age', 'from Wuhan']"
            ]
          },
          "metadata": {
            "tags": []
          },
          "execution_count": 9
        }
      ]
    },
    {
      "cell_type": "code",
      "metadata": {
        "id": "sIbWcJnXfsXS"
      },
      "source": [
        "x_train, x_test, y_train, y_test = train_test_split(x,y,test_size=0.2,random_state=1)\n",
        "model = GaussianNB()\n",
        "model.fit(x_train,y_train)\n",
        "\n",
        "y_pred = model.predict(x_test)\n",
        "accuracy = accuracy_score(y_test,y_pred)*100"
      ],
      "execution_count": null,
      "outputs": []
    },
    {
      "cell_type": "code",
      "metadata": {
        "id": "LTsCJReFfsXY",
        "colab": {
          "base_uri": "https://localhost:8080/"
        },
        "outputId": "089bde47-bf4b-4553-9581-b152ce645d4c"
      },
      "source": [
        "accuracy"
      ],
      "execution_count": null,
      "outputs": [
        {
          "output_type": "execute_result",
          "data": {
            "text/plain": [
              "94.00921658986175"
            ]
          },
          "metadata": {
            "tags": []
          },
          "execution_count": 11
        }
      ]
    },
    {
      "cell_type": "code",
      "metadata": {
        "id": "0MXzXydZfsXc"
      },
      "source": [
        ""
      ],
      "execution_count": null,
      "outputs": []
    },
    {
      "cell_type": "code",
      "metadata": {
        "id": "FgrUtZibfsXf"
      },
      "source": [
        ""
      ],
      "execution_count": null,
      "outputs": []
    }
  ]
}